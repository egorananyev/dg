{
 "cells": [
  {
   "cell_type": "markdown",
   "metadata": {},
   "source": [
    "# Behavioural analysis"
   ]
  },
  {
   "cell_type": "markdown",
   "metadata": {},
   "source": [
    "## Preparing the data"
   ]
  },
  {
   "cell_type": "code",
   "execution_count": 1,
   "metadata": {
    "collapsed": false
   },
   "outputs": [
    {
     "name": "stderr",
     "output_type": "stream",
     "text": [
      "/Users/egor/Library/Enthought/Canopy_32bit/User/lib/python2.7/site-packages/matplotlib/font_manager.py:273: UserWarning: Matplotlib is building the font cache using fc-list. This may take a moment.\n",
      "  warnings.warn('Matplotlib is building the font cache using fc-list. This may take a moment.')\n"
     ]
    }
   ],
   "source": [
    "import numpy as np\n",
    "import pandas as pd\n",
    "import matplotlib.pyplot as plt\n",
    "import seaborn as sns\n",
    "import os, glob\n",
    "from mpl_toolkits.mplot3d import Axes3D\n",
    "from matplotlib import cm"
   ]
  },
  {
   "cell_type": "markdown",
   "metadata": {},
   "source": [
    "Loading the data:"
   ]
  },
  {
   "cell_type": "code",
   "execution_count": 51,
   "metadata": {
    "collapsed": false
   },
   "outputs": [
    {
     "name": "stdout",
     "output_type": "stream",
     "text": [
      "dg_p0_crn-test_s1_r1_2017-01-09_1522\n",
      "dg_p0_crn-test_s1_r2_2017-01-09_1525\n",
      "(4, 28)\n",
      "(4, 1200)\n",
      "Index([u'expName', u'time', u'participant', u'session', u'run', u'trialN',\n",
      "       u'dirL', u'dirR', u'vL', u'vR', u'szL', u'szR', u'sfL', u'sfR', u'colL',\n",
      "       u'colR', u'sat', u'trialT', u'nFrames', u'nNa', u'nf000', u'nf090',\n",
      "       u'nf180', u'nf270', u'pd000', u'pd090', u'pd180', u'pd270'],\n",
      "      dtype='object')\n"
     ]
    }
   ],
   "source": [
    "%matplotlib inline\n",
    "plt.style.use('dark_background')\n",
    "expName = 'dg'\n",
    "dataDir = os.path.abspath(os.path.join(os.getcwd(), '..', '..', 'data'))\n",
    "allSubjDirs = glob.glob(dataDir + '/' + expName + '*')\n",
    "#print allSubjDirs\n",
    "ds = pd.DataFrame()\n",
    "dsCont = pd.DataFrame() # for continuous manual tracking data\n",
    "for subjDir in allSubjDirs:\n",
    "    subjDirBasename = os.path.basename(subjDir)\n",
    "    print subjDirBasename\n",
    "    subjFilePath = glob.glob(subjDir + '/' + subjDirBasename + '.csv')[0]\n",
    "    ds = ds.append(pd.read_csv(subjFilePath))\n",
    "    subjContFilePath = glob.glob(subjDir + '/' + subjDirBasename + '_cont.csv')[0]\n",
    "    dsCont = dsCont.append(pd.read_csv(subjContFilePath, header=None))\n",
    "#print ds.head(5)\n",
    "print ds.shape\n",
    "print dsCont.shape\n",
    "print ds.columns"
   ]
  },
  {
   "cell_type": "markdown",
   "metadata": {},
   "source": [
    "Transforming the data set first."
   ]
  },
  {
   "cell_type": "code",
   "execution_count": 50,
   "metadata": {
    "collapsed": false
   },
   "outputs": [
    {
     "data": {
      "text/html": [
       "<div>\n",
       "<table border=\"1\" class=\"dataframe\">\n",
       "  <thead>\n",
       "    <tr style=\"text-align: right;\">\n",
       "      <th></th>\n",
       "      <th>expName</th>\n",
       "      <th>time</th>\n",
       "      <th>participant</th>\n",
       "      <th>session</th>\n",
       "      <th>run</th>\n",
       "      <th>trialN</th>\n",
       "      <th>dirL</th>\n",
       "      <th>dirR</th>\n",
       "      <th>vL</th>\n",
       "      <th>vR</th>\n",
       "      <th>...</th>\n",
       "      <th>nFrames</th>\n",
       "      <th>nNa</th>\n",
       "      <th>nf000</th>\n",
       "      <th>nf090</th>\n",
       "      <th>nf180</th>\n",
       "      <th>nf270</th>\n",
       "      <th>pd000</th>\n",
       "      <th>pd090</th>\n",
       "      <th>pd180</th>\n",
       "      <th>pd270</th>\n",
       "    </tr>\n",
       "  </thead>\n",
       "  <tbody>\n",
       "    <tr>\n",
       "      <th>0</th>\n",
       "      <td>dg</td>\n",
       "      <td>2017-01-09_1522</td>\n",
       "      <td>0</td>\n",
       "      <td>1</td>\n",
       "      <td>1</td>\n",
       "      <td>1</td>\n",
       "      <td>180</td>\n",
       "      <td>0</td>\n",
       "      <td>6.7</td>\n",
       "      <td>6.7</td>\n",
       "      <td>...</td>\n",
       "      <td>60</td>\n",
       "      <td>636</td>\n",
       "      <td>149</td>\n",
       "      <td>0</td>\n",
       "      <td>415</td>\n",
       "      <td>0</td>\n",
       "      <td>0.124167</td>\n",
       "      <td>0.0</td>\n",
       "      <td>0.345833</td>\n",
       "      <td>0.0</td>\n",
       "    </tr>\n",
       "    <tr>\n",
       "      <th>1</th>\n",
       "      <td>dg</td>\n",
       "      <td>2017-01-09_1522</td>\n",
       "      <td>0</td>\n",
       "      <td>1</td>\n",
       "      <td>1</td>\n",
       "      <td>2</td>\n",
       "      <td>0</td>\n",
       "      <td>180</td>\n",
       "      <td>6.7</td>\n",
       "      <td>6.7</td>\n",
       "      <td>...</td>\n",
       "      <td>60</td>\n",
       "      <td>412</td>\n",
       "      <td>320</td>\n",
       "      <td>0</td>\n",
       "      <td>468</td>\n",
       "      <td>0</td>\n",
       "      <td>0.266667</td>\n",
       "      <td>0.0</td>\n",
       "      <td>0.390000</td>\n",
       "      <td>0.0</td>\n",
       "    </tr>\n",
       "    <tr>\n",
       "      <th>0</th>\n",
       "      <td>dg</td>\n",
       "      <td>2017-01-09_1525</td>\n",
       "      <td>0</td>\n",
       "      <td>1</td>\n",
       "      <td>2</td>\n",
       "      <td>1</td>\n",
       "      <td>0</td>\n",
       "      <td>180</td>\n",
       "      <td>6.7</td>\n",
       "      <td>6.7</td>\n",
       "      <td>...</td>\n",
       "      <td>60</td>\n",
       "      <td>637</td>\n",
       "      <td>164</td>\n",
       "      <td>0</td>\n",
       "      <td>399</td>\n",
       "      <td>0</td>\n",
       "      <td>0.136667</td>\n",
       "      <td>0.0</td>\n",
       "      <td>0.332500</td>\n",
       "      <td>0.0</td>\n",
       "    </tr>\n",
       "    <tr>\n",
       "      <th>1</th>\n",
       "      <td>dg</td>\n",
       "      <td>2017-01-09_1525</td>\n",
       "      <td>0</td>\n",
       "      <td>1</td>\n",
       "      <td>2</td>\n",
       "      <td>2</td>\n",
       "      <td>180</td>\n",
       "      <td>0</td>\n",
       "      <td>6.7</td>\n",
       "      <td>6.7</td>\n",
       "      <td>...</td>\n",
       "      <td>60</td>\n",
       "      <td>772</td>\n",
       "      <td>205</td>\n",
       "      <td>0</td>\n",
       "      <td>223</td>\n",
       "      <td>0</td>\n",
       "      <td>0.170833</td>\n",
       "      <td>0.0</td>\n",
       "      <td>0.185833</td>\n",
       "      <td>0.0</td>\n",
       "    </tr>\n",
       "  </tbody>\n",
       "</table>\n",
       "<p>4 rows × 28 columns</p>\n",
       "</div>"
      ],
      "text/plain": [
       "  expName             time  participant  session  run  trialN  dirL  dirR  \\\n",
       "0      dg  2017-01-09_1522            0        1    1       1   180     0   \n",
       "1      dg  2017-01-09_1522            0        1    1       2     0   180   \n",
       "0      dg  2017-01-09_1525            0        1    2       1     0   180   \n",
       "1      dg  2017-01-09_1525            0        1    2       2   180     0   \n",
       "\n",
       "    vL   vR  ...    nFrames  nNa  nf000  nf090 nf180 nf270     pd000  pd090  \\\n",
       "0  6.7  6.7  ...         60  636    149      0   415     0  0.124167    0.0   \n",
       "1  6.7  6.7  ...         60  412    320      0   468     0  0.266667    0.0   \n",
       "0  6.7  6.7  ...         60  637    164      0   399     0  0.136667    0.0   \n",
       "1  6.7  6.7  ...         60  772    205      0   223     0  0.170833    0.0   \n",
       "\n",
       "      pd180  pd270  \n",
       "0  0.345833    0.0  \n",
       "1  0.390000    0.0  \n",
       "0  0.332500    0.0  \n",
       "1  0.185833    0.0  \n",
       "\n",
       "[4 rows x 28 columns]"
      ]
     },
     "execution_count": 50,
     "metadata": {},
     "output_type": "execute_result"
    }
   ],
   "source": [
    "# Measuring velocities in dps:\n",
    "ds.vR_dps = np.round(ds.vR*.15,1)\n",
    "ds.vL_dps = np.round(ds.vL*.15,1)\n",
    "# Measuring sf in cycles per degree:\n",
    "ds.sfL_cpd = np.round(ds.sfL*34,1)\n",
    "ds.sfR_cpd = np.round(ds.sfR*34,1)\n",
    "ds.head(5)"
   ]
  },
  {
   "cell_type": "markdown",
   "metadata": {},
   "source": [
    "## Behavioural predominance"
   ]
  },
  {
   "cell_type": "markdown",
   "metadata": {},
   "source": [
    "### Influence of color"
   ]
  },
  {
   "cell_type": "markdown",
   "metadata": {},
   "source": [
    "### Influence of direction"
   ]
  },
  {
   "cell_type": "markdown",
   "metadata": {},
   "source": [
    "## Behavioural time course"
   ]
  },
  {
   "cell_type": "code",
   "execution_count": 52,
   "metadata": {
    "collapsed": false
   },
   "outputs": [
    {
     "name": "stdout",
     "output_type": "stream",
     "text": [
      "   0     1     2     3     4     5     6     7     8     9     ...     1190  \\\n",
      "0   NaN   NaN   NaN   NaN   NaN   NaN   NaN   NaN   NaN   NaN  ...      0.0   \n",
      "1   NaN   NaN   NaN   NaN   NaN   NaN   NaN   NaN   NaN   NaN  ...      0.0   \n",
      "0   NaN   NaN   NaN   NaN   NaN   NaN   NaN   NaN   NaN   NaN  ...      NaN   \n",
      "1   NaN   NaN   NaN   NaN   NaN   NaN   NaN   NaN   NaN   NaN  ...    180.0   \n",
      "\n",
      "    1191   1192   1193   1194   1195   1196   1197   1198   1199  \n",
      "0    0.0    0.0    0.0    0.0    0.0    0.0    0.0    0.0    0.0  \n",
      "1    0.0    0.0    0.0    0.0    0.0    0.0    0.0    0.0    0.0  \n",
      "0    NaN    NaN    NaN    NaN    NaN    NaN    NaN    NaN    NaN  \n",
      "1  180.0  180.0  180.0  180.0  180.0  180.0  180.0  180.0  180.0  \n",
      "\n",
      "[4 rows x 1200 columns]\n",
      "[ 0.  1.  2.  3.  4.]\n",
      "[ 90.  90.  90.  90.  90.]\n",
      "[ 0.  0.  0.  0.  0.]\n",
      "(4800,) (4800,) (4800,)\n"
     ]
    }
   ],
   "source": [
    "#print dsCont.head(5)\n",
    "dsContMat = dsCont.as_matrix()\n",
    "dsContMat[np.isnan(dsContMat)] = 90\n",
    "dsContX = np.tile(np.linspace(0,dsContMat.shape[1]-1,num=dsContMat.shape[1]),\n",
    "                   dsContMat.shape[0])\n",
    "dsContY = dsContMat.flatten()\n",
    "dsContHue = np.repeat(np.linspace(0,dsContMat.shape[0]-1,num=dsContMat.shape[0]), \n",
    "                    dsContMat.shape[1])\n",
    "print dsContX[0:5]\n",
    "print dsContY[0:5]\n",
    "print dsContHue[0:5]\n",
    "dsContDF = pd.DataFrame({'frame': dsContX, 'response': dsContY, 'row': dsContHue})\n",
    "print str(dsContX.shape) + ' ' + str(dsContY.shape) + ' ' + str(dsContHue.shape)"
   ]
  },
  {
   "cell_type": "code",
   "execution_count": 106,
   "metadata": {
    "collapsed": false
   },
   "outputs": [
    {
     "data": {
      "text/plain": [
       "array([<matplotlib.axes._subplots.AxesSubplot object at 0x110109b0>], dtype=object)"
      ]
     },
     "execution_count": 106,
     "metadata": {},
     "output_type": "execute_result"
    },
    {
     "data": {
      "image/png": "[encoded data removed]",
      "text/plain": [
       "<matplotlib.figure.Figure at 0xe55eb50>"
      ]
     },
     "metadata": {},
     "output_type": "display_data"
    }
   ],
   "source": [
    "#g = sns.factorplot(x='frame', y='response', col='row', data=dsContDF, col_wrap=4, ci=None)\n",
    "dsContDF[dsContDF.row==0].plot(x='frame', y='response', subplots=True)\n",
    "#g = sns.factorplot(x=dsContX, y=dsContY, hue=dsContHue, col_wrap=1, size=3.5, ci=None)\n",
    "#g.set_axis_labels('frameN','angle')\n",
    "#plt.ylim(-0.1,1.1)"
   ]
  },
  {
   "cell_type": "markdown",
   "metadata": {},
   "source": [
    "# Eye-tracking data"
   ]
  },
  {
   "cell_type": "markdown",
   "metadata": {},
   "source": [
    "## Data import"
   ]
  },
  {
   "cell_type": "code",
   "execution_count": 64,
   "metadata": {
    "collapsed": false,
    "scrolled": true
   },
   "outputs": [
    {
     "name": "stdout",
     "output_type": "stream",
     "text": [
      "/Users/egor/Dropbox/Projects/md/data/dg_p0_crn-test_s1_r1_2017-01-09_1522/data.asc\n",
      "          x_l    y_l   pup_l     x_r    y_r   pup_r\n",
      "onset                                              \n",
      "169236  977.9  330.0  7358.0  1067.3  330.0  7466.0\n",
      "169238  978.0  330.0  7365.0  1067.3  330.0  7465.0\n",
      "169240  978.1  330.0  7366.0  1067.7  330.0  7465.0\n",
      "169242  978.3  330.0  7368.0  1068.0  330.0  7469.0\n",
      "169244  978.3  330.0  7369.0  1068.1  330.0  7470.0\n",
      "Index([u'x_l', u'y_l', u'pup_l', u'x_r', u'y_r', u'pup_r'], dtype='object')\n",
      "   trialN  trialTS  trialStartTS  trialEndTS  trialLength\n",
      "0       1   168679        169234      188783        19549\n",
      "1       2   191663        192218      211777        19559\n"
     ]
    }
   ],
   "source": [
    "subjEtPath = glob.glob(allSubjDirs[0] + '/' + 'data.asc')[0]\n",
    "print subjEtPath\n",
    "# Importing the data set the first time, with all the accompanying mess, for reading messages:\n",
    "with open(subjEtPath) as f:\n",
    "    mess = f.readlines()\n",
    "# A cleaner import using cili to just read out the ET data:\n",
    "from cili.util import *\n",
    "from cili.cleanup import *\n",
    "samps, events = load_eyelink_dataset(subjEtPath)\n",
    "# Optional cleaning (probably not necessary):\n",
    "#samps = interp_eyelink_blinks(samps, events, interp_fields=[\"pup_l\"])\n",
    "#samps = interp_zeros(samps, interp_fields=[\"pup_l\"])\n",
    "print samps.head(5)\n",
    "print samps.columns\n",
    "#print samps.ix[849896:849900]\n",
    "# cili's native extraction of ranges for each event unfortunately doesn't work, although...\n",
    "# ... I probably don't need it anyway:\n",
    "from cili.extract import extract_event_ranges\n",
    "#ranges = extract_event_ranges(samps, events, end_offset=1000)\n",
    "# With the 'messy' data set, creating a lookup table with the trial numbers and time stamps:\n",
    "trialStr = [s for s in mess if 'TRIALID' in s] # the string to look into\n",
    "trialTS = map(int,[s[s.index('\\t')+1:s.index(' T')] for s in trialStr]) # time stamp\n",
    "trialN = map(int,[s[s.index('D ')+2:s.index('\\n')] for s in trialStr]) # trial number\n",
    "trialStartStr = [s for s in mess if 'START' in s]\n",
    "trialStart = map(int,[s[s.index('\\t')+1:s.index(' \\t')] for s in trialStartStr])\n",
    "trialEndStr = [s for s in mess if 'END' in s]\n",
    "trialEnd = map(int,[s[s.index('\\t')+1:s.index(' \\t')] for s in trialEndStr])\n",
    "# Collating the above into a data frame for lookup:\n",
    "trials = pd.DataFrame({'trialN':trialN, 'trialTS':trialTS, 'trialStartTS':trialStart,\n",
    "                      'trialEndTS':trialEnd})\n",
    "trials['trialLength'] = trials['trialEndTS'] - trials['trialStartTS']\n",
    "trials = trials[['trialN', 'trialTS', 'trialStartTS', 'trialEndTS', 'trialLength']]\n",
    "#print np.max(trials['trialLength'])\n",
    "print trials.head(5)"
   ]
  },
  {
   "cell_type": "code",
   "execution_count": 101,
   "metadata": {
    "collapsed": false
   },
   "outputs": [
    {
     "name": "stdout",
     "output_type": "stream",
     "text": [
      "          x_l    y_l   pup_l     x_r    y_r   pup_r\n",
      "onset                                              \n",
      "169236  977.9  330.0  7358.0  1067.3  330.0  7466.0\n",
      "169238  978.0  330.0  7365.0  1067.3  330.0  7465.0\n",
      "169240  978.1  330.0  7366.0  1067.7  330.0  7465.0\n",
      "169242  978.3  330.0  7368.0  1068.0  330.0  7469.0\n",
      "169244  978.3  330.0  7369.0  1068.1  330.0  7470.0\n",
      "(9774, 6)\n"
     ]
    }
   ],
   "source": [
    "# For each trial, take the appropriate chunk of em samps:\n",
    "trialSamps = samps[((samps.index>=trials.trialStartTS[0]) & \n",
    "                    (samps.index<=trials.trialEndTS[0]))]\n",
    "print trialSamps.head(5)\n",
    "print trialSamps.shape"
   ]
  },
  {
   "cell_type": "code",
   "execution_count": 104,
   "metadata": {
    "collapsed": false
   },
   "outputs": [
    {
     "data": {
      "text/plain": [
       "<matplotlib.axes._subplots.AxesSubplot at 0xe4e2170>"
      ]
     },
     "execution_count": 104,
     "metadata": {},
     "output_type": "execute_result"
    },
    {
     "data": {
      "image/png": "[encoded data removed]",
      "text/plain": [
       "<matplotlib.figure.Figure at 0xb7f81f0>"
      ]
     },
     "metadata": {},
     "output_type": "display_data"
    }
   ],
   "source": [
    "trialSamps.plot(y='x_l')"
   ]
  },
  {
   "cell_type": "code",
   "execution_count": null,
   "metadata": {
    "collapsed": true
   },
   "outputs": [],
   "source": [
    "# Creating my own ranges for each trial, with N number of samples:\n",
    "#nSamples = 1500\n",
    "#ranges = np.zeros((len(trialN),nSamples,6)) # 6 is for all six variables (L/R x,y,pup)\n",
    "#print trialTS[0]\n",
    "#print samps.ix[samps.ix>trialTS[0],0]\n",
    "#print samps.index\n",
    "#print samps.ix[int(trialTS[0]):int(trialTS[0])+600]\n",
    "#print trialN\n",
    "#trialStart = trialN # initiating a new variable to collect the 'actual' start\n",
    "#trialEnd = trialN # the 'actual' end\n",
    "#print trialN[-1] == 96\n",
    "#for t in trialN:\n",
    "    #print t\n",
    "    # the actual start is the first data point following a trial time stamp:\n",
    "    #trialStart[t-1] = samps.index[next(x[0] for x in enumerate(samps.index) if x[1] > trialTS[t-1])]\n",
    "    #trialStart[t-1] = \n",
    "    #print t==trialN[-1]\n",
    "    #if t != 96: # trialN[-1]: #WHY DOESN'T THIS WORK?!\n",
    "        #print trialTS[t]\n",
    "        #trialEnd[t-1] = samps.index[next(x[0] for x in enumerate(samps.index) if x[1] > trialTS[t])]\n",
    "    #else:\n",
    "        #trialEnd[t-1] = samps.index[-1]\n",
    "    #end = trialStart[t-1]+nSamples\n",
    "    #print end\n",
    "    #ranges[t,:,:] = samps.ix[beg:end]\n",
    "    #samps.ix[int(trialTS[int(t)-1]):int(trialTS[int(t)-1]+nSamples)]\n",
    "#print trialStart\n",
    "#print trialEnd"
   ]
  }
 ],
 "metadata": {
  "kernelspec": {
   "display_name": "Python 2",
   "language": "python",
   "name": "python2"
  },
  "language_info": {
   "codemirror_mode": {
    "name": "ipython",
    "version": 2
   },
   "file_extension": ".py",
   "mimetype": "text/x-python",
   "name": "python",
   "nbconvert_exporter": "python",
   "pygments_lexer": "ipython2",
   "version": "2.7.6"
  }
 },
 "nbformat": 4,
 "nbformat_minor": 1
}
